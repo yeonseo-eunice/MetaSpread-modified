{
 "cells": [
  {
   "cell_type": "markdown",
   "metadata": {},
   "source": [
    "Run Iterations all at Once"
   ]
  },
  {
   "cell_type": "code",
   "execution_count": 3,
   "metadata": {},
   "outputs": [],
   "source": [
    "import importlib\n",
    "\n",
    "import metaspread\n",
    "import metaspread.simrunner as simrunner\n",
    "import metaspread.configs\n",
    "\n",
    "importlib.reload(metaspread)\n",
    "\n",
    "import pandas as pd\n",
    "import random\n",
    "import time\n",
    "import os\n",
    "import ast\n",
    "import json\n",
    "import uuid\n",
    "\n",
    "def run_n_times(number_of_simulations, maximum_steps):\n",
    "    # Set random seed for reproducibility\n",
    "    random.seed(int(time.time()))\n",
    "\n",
    "    # Get the directory where metaspread is installed\n",
    "    package_dir = os.path.dirname(metaspread.__file__)\n",
    "\n",
    "   # Define paths for the default and simulation configuration files\n",
    "    default_config_path = os.path.join(package_dir, \"default_configs.csv\")\n",
    "    simulation_config_path = os.path.join(package_dir, \"simulations_configs.csv\")\n",
    "    # print(simulation_config_path)\n",
    "\n",
    "    # Load default parameters from default_configs.csv (This file remains unchanged)\n",
    "    df_default_configs = pd.read_csv(default_config_path, header=0, converters={\"Values\": ast.literal_eval})\n",
    "    # print(\"default configs\")\n",
    "    # display(df_default_configs.head())\n",
    "    default_params = dict(zip(df_default_configs[\"Names\"], df_default_configs[\"Values\"]))\n",
    "\n",
    "    # Load simulation configuration file\n",
    "    df_simulation_configs = df_default_configs.copy()  # Start with defaults\n",
    "    \n",
    "    # List of parameters to vary\n",
    "    user_selected_params = [\"dM\", \"dE\", \"phiM\", \"phiE\", \"mesenchymal_proportion\", \"epithelial_proportion\"]\n",
    "    valid_params = [param for param in user_selected_params if param in default_params]\n",
    "\n",
    "    # Number of simulations\n",
    "    num_simulations = number_of_simulations\n",
    "\n",
    "    # Store all parameter variations\n",
    "    simulation_logs = []\n",
    "\n",
    "    # Loop over multiple iterations\n",
    "    for i in range(num_simulations):\n",
    "        print(f\"Running simulation {i+1}/{num_simulations}...\")\n",
    "\n",
    "        simulation_id = str(uuid.uuid4())[:8]\n",
    "\n",
    "        # Modify parameters randomly\n",
    "        varied_params = default_params.copy()\n",
    "        for param in valid_params:\n",
    "            if param != \"mesenchymal_proportion\" and param != \"epithelial_proportion\":\n",
    "                default_value = float(default_params[param])  # Ensure it's numeric\n",
    "                new_value = default_value * random.uniform(1/3, 3)\n",
    "                # print(f\"param: {param} new value: {new_value}\")\n",
    "                varied_params[param] = new_value\n",
    "\n",
    "        # Ensure grid size is always set to 50\n",
    "        varied_params[\"gridsize\"] = 100\n",
    "\n",
    "        # set mesenchymal_porpotion and ensure the proportions add up to 1\n",
    "        mes_proportion = random.uniform(0,1)\n",
    "        varied_params[\"mesenchymal_proportion\"] = mes_proportion\n",
    "        varied_params[\"epithelial_proportion\"] = 1 - mes_proportion\n",
    "\n",
    "\n",
    "        # print(\"varied_params\")\n",
    "        # print(varied_params)\n",
    "\n",
    "        # Update simulations_configs.csv but NOT default_configs.csv\n",
    "        for param in valid_params + [\"gridsize\"]:\n",
    "            if param in df_simulation_configs[\"Names\"].str.strip().values:  # Check if param exists\n",
    "                df_simulation_configs.loc[df_simulation_configs[\"Names\"].str.strip() == param, \"Values\"] = varied_params[param]\n",
    "                print(f\"Updated {param} to {varied_params[param]}\")\n",
    "            else:\n",
    "                print(f\"⚠️ Warning: {param} not found in df_simulation_configs[\\\"Names\\\"]. Skipping update.\")\n",
    "\n",
    "        df_simulation_configs.to_csv(simulation_config_path, index=False, mode='w')\n",
    "        # print(\"df_simuation_configs\")\n",
    "        # display(df_simulation_configs.head(10))\n",
    "\n",
    "        # df_simulation_configs = pd.read_csv(os.path.join(package_dir, \"simulations_configs.csv\"))\n",
    "        # print(\"csv file\")\n",
    "        # display(df_simulation_configs.head(10))\n",
    "\n",
    "        # Run simulation\n",
    "        simulation = simrunner.run_simulation(simulation_id, max_steps=maximum_steps, data_collection_period=30)\n",
    "\n",
    "        # Store parameter variations\n",
    "        simulation_logs.append({\n",
    "            \"simulation_id\": simulation_id,\n",
    "            \"varied_parameters\": {param: varied_params[param] for param in valid_params},\n",
    "            \"gridsize\": 100\n",
    "        })\n",
    "\n",
    "        print(f\"Completed simulation {i+1}/{num_simulations}.\")\n",
    "\n",
    "    # Save all parameters used in simulations\n",
    "    with open(\"metaspread_simulation_logs.json\", \"w\") as f:\n",
    "        json.dump(simulation_logs, f, indent=4)\n",
    "\n",
    "    print(f\"All {num_simulations} simulations completed successfully.\")\n"
   ]
  },
  {
   "attachments": {},
   "cell_type": "markdown",
   "metadata": {},
   "source": [
    "## Run\n",
    "run_n_times({number of simulations}, {maximum steps})"
   ]
  },
  {
   "cell_type": "code",
   "execution_count": 4,
   "metadata": {},
   "outputs": [
    {
     "name": "stdout",
     "output_type": "stream",
     "text": [
      "Running simulation 1/10...\n",
      "Updated dM to 4.965857913909124e-05\n",
      "Updated dE to 0.00011532599065401163\n",
      "Updated phiM to 0.000339178396153957\n",
      "Updated phiE to 0.0013660655128336884\n",
      "Updated mesenchymal_proportion to 0.07706570682952385\n",
      "Updated epithelial_proportion to 0.9229342931704761\n",
      "Updated gridsize to 100\n",
      "\t Folder for this simulation: Simulations/Sim-ae6ffd77-Date-2025-03-02_01-38-37\n",
      "\t Saving agents data at: Simulations/Sim-ae6ffd77-Date-2025-03-02_01-38-37\n",
      "\t Saving Mmp2 data at: Simulations/Sim-ae6ffd77-Date-2025-03-02_01-38-37/Mmp2\n",
      "\t Saving Ecm data at: Simulations/Sim-ae6ffd77-Date-2025-03-02_01-38-37/Ecm\n",
      "\t Saving Vasculature data at: Simulations/Sim-ae6ffd77-Date-2025-03-02_01-38-37/Vasculature\n",
      "\t Saving all the simulations parameters at: Simulations/Sim-ae6ffd77-Date-2025-03-02_01-38-37/configs.csv\n",
      "Starting simulation from zero!\n",
      "Step number: 1151\r"
     ]
    },
    {
     "ename": "KeyboardInterrupt",
     "evalue": "",
     "output_type": "error",
     "traceback": [
      "\u001b[0;31m---------------------------------------------------------------------------\u001b[0m",
      "\u001b[0;31mKeyboardInterrupt\u001b[0m                         Traceback (most recent call last)",
      "Cell \u001b[0;32mIn[4], line 1\u001b[0m\n\u001b[0;32m----> 1\u001b[0m run_n_times(\u001b[39m10\u001b[39;49m,\u001b[39m2160\u001b[39;49m)\n",
      "Cell \u001b[0;32mIn[3], line 92\u001b[0m, in \u001b[0;36mrun_n_times\u001b[0;34m(number_of_simulations, maximum_steps)\u001b[0m\n\u001b[1;32m     83\u001b[0m df_simulation_configs\u001b[39m.\u001b[39mto_csv(simulation_config_path, index\u001b[39m=\u001b[39m\u001b[39mFalse\u001b[39;00m, mode\u001b[39m=\u001b[39m\u001b[39m'\u001b[39m\u001b[39mw\u001b[39m\u001b[39m'\u001b[39m)\n\u001b[1;32m     84\u001b[0m \u001b[39m# print(\"df_simuation_configs\")\u001b[39;00m\n\u001b[1;32m     85\u001b[0m \u001b[39m# display(df_simulation_configs.head(10))\u001b[39;00m\n\u001b[1;32m     86\u001b[0m \n\u001b[0;32m   (...)\u001b[0m\n\u001b[1;32m     90\u001b[0m \n\u001b[1;32m     91\u001b[0m \u001b[39m# Run simulation\u001b[39;00m\n\u001b[0;32m---> 92\u001b[0m simulation \u001b[39m=\u001b[39m simrunner\u001b[39m.\u001b[39;49mrun_simulation(simulation_id, max_steps\u001b[39m=\u001b[39;49mmaximum_steps, data_collection_period\u001b[39m=\u001b[39;49m\u001b[39m60\u001b[39;49m)\n\u001b[1;32m     94\u001b[0m \u001b[39m# Store parameter variations\u001b[39;00m\n\u001b[1;32m     95\u001b[0m simulation_logs\u001b[39m.\u001b[39mappend({\n\u001b[1;32m     96\u001b[0m     \u001b[39m\"\u001b[39m\u001b[39msimulation_id\u001b[39m\u001b[39m\"\u001b[39m: simulation_id,\n\u001b[1;32m     97\u001b[0m     \u001b[39m\"\u001b[39m\u001b[39mvaried_parameters\u001b[39m\u001b[39m\"\u001b[39m: {param: varied_params[param] \u001b[39mfor\u001b[39;00m param \u001b[39min\u001b[39;00m valid_params},\n\u001b[1;32m     98\u001b[0m     \u001b[39m\"\u001b[39m\u001b[39mgridsize\u001b[39m\u001b[39m\"\u001b[39m: \u001b[39m100\u001b[39m\n\u001b[1;32m     99\u001b[0m })\n",
      "File \u001b[0;32m~/Documents/Duke/Sp25/BME590.05/project/MetaSpread/metaspread/simrunner.py:101\u001b[0m, in \u001b[0;36mrun_simulation\u001b[0;34m(simulation_id, max_steps, data_collection_period, save_path, loaded_simulation_path)\u001b[0m\n\u001b[1;32m     91\u001b[0m model \u001b[39m=\u001b[39m metaspread\u001b[39m.\u001b[39mCancerModel(\n\u001b[1;32m     92\u001b[0m     number_of_initial_cells,\n\u001b[1;32m     93\u001b[0m     width,\n\u001b[0;32m   (...)\u001b[0m\n\u001b[1;32m     98\u001b[0m     new_simulation_path,\n\u001b[1;32m     99\u001b[0m     loaded_simulation_path)\n\u001b[1;32m    100\u001b[0m \u001b[39mfor\u001b[39;00m i \u001b[39min\u001b[39;00m \u001b[39mrange\u001b[39m(max_steps):\n\u001b[0;32m--> 101\u001b[0m     model\u001b[39m.\u001b[39;49mstep()\n\u001b[1;32m    102\u001b[0m \u001b[39mprint\u001b[39m(\u001b[39mf\u001b[39m\u001b[39m'\u001b[39m\u001b[39mFinished the simulation at time step \u001b[39m\u001b[39m{\u001b[39;00mmodel\u001b[39m.\u001b[39mschedule\u001b[39m.\u001b[39mtime\u001b[39m}\u001b[39;00m\u001b[39m!\u001b[39m\u001b[39m'\u001b[39m)\n\u001b[1;32m    103\u001b[0m \u001b[39mreturn\u001b[39;00m model\n",
      "File \u001b[0;32m~/Documents/Duke/Sp25/BME590.05/project/MetaSpread/metaspread/cancermodel.py:214\u001b[0m, in \u001b[0;36mCancerModel.step\u001b[0;34m(self)\u001b[0m\n\u001b[1;32m    211\u001b[0m                 ccells_amount \u001b[39m-\u001b[39m\u001b[39m=\u001b[39m \u001b[39m1\u001b[39m\n\u001b[1;32m    213\u001b[0m \u001b[39m#Perform ECM and MMP2 calculations\u001b[39;00m\n\u001b[0;32m--> 214\u001b[0m \u001b[39mself\u001b[39;49m\u001b[39m.\u001b[39;49mcalculate_environment(\u001b[39mself\u001b[39;49m\u001b[39m.\u001b[39;49mmmp2, \u001b[39mself\u001b[39;49m\u001b[39m.\u001b[39;49mecm)\n\u001b[1;32m    216\u001b[0m \u001b[39m# Proliferation\u001b[39;00m\n\u001b[1;32m    217\u001b[0m \u001b[39m# Counters are used so when loading a simulation the behaviour does not change, compared to use self.schedule.time % doubling_time_M == 0\u001b[39;00m\n\u001b[1;32m    218\u001b[0m \u001b[39mif\u001b[39;00m (\u001b[39mself\u001b[39m\u001b[39m.\u001b[39mdoubling_time_counter_M \u001b[39m==\u001b[39m \u001b[39m0\u001b[39m \u001b[39mand\u001b[39;00m \u001b[39mself\u001b[39m\u001b[39m.\u001b[39mschedule\u001b[39m.\u001b[39mtime \u001b[39m!=\u001b[39m \u001b[39m0\u001b[39m):\n",
      "File \u001b[0;32m~/Documents/Duke/Sp25/BME590.05/project/MetaSpread/metaspread/cancermodel.py:504\u001b[0m, in \u001b[0;36mCancerModel.calculate_environment\u001b[0;34m(self, mmp2, ecm)\u001b[0m\n\u001b[1;32m    502\u001b[0m on_right_border \u001b[39m=\u001b[39m \u001b[39mself\u001b[39m\u001b[39m.\u001b[39mgrids[i]\u001b[39m.\u001b[39mout_of_bounds((x\u001b[39m+\u001b[39m\u001b[39m1\u001b[39m,y))\n\u001b[1;32m    503\u001b[0m on_top_border \u001b[39m=\u001b[39m \u001b[39mself\u001b[39m\u001b[39m.\u001b[39mgrids[i]\u001b[39m.\u001b[39mout_of_bounds((x,y\u001b[39m-\u001b[39m\u001b[39m1\u001b[39m))\n\u001b[0;32m--> 504\u001b[0m on_bottom_border \u001b[39m=\u001b[39m \u001b[39mself\u001b[39;49m\u001b[39m.\u001b[39;49mgrids[i]\u001b[39m.\u001b[39;49mout_of_bounds((x,y\u001b[39m+\u001b[39;49m\u001b[39m1\u001b[39;49m))\n\u001b[1;32m    505\u001b[0m mmp2[i][\u001b[39m1\u001b[39m,x,y]\u001b[39m=\u001b[39mdmmp\u001b[39m*\u001b[39mtha\u001b[39m/\u001b[39mxha\u001b[39m*\u001b[39m\u001b[39m*\u001b[39m\u001b[39m2\u001b[39m\u001b[39m*\u001b[39m((mmp2[i][\u001b[39m0\u001b[39m,x\u001b[39m+\u001b[39m\u001b[39m1\u001b[39m,y] \u001b[39mif\u001b[39;00m \u001b[39mnot\u001b[39;00m on_right_border \u001b[39melse\u001b[39;00m mmp2[i][\u001b[39m0\u001b[39m,x\u001b[39m-\u001b[39m\u001b[39m1\u001b[39m,y])\\\n\u001b[1;32m    506\u001b[0m         \u001b[39m+\u001b[39m(mmp2[i][\u001b[39m0\u001b[39m,x\u001b[39m-\u001b[39m\u001b[39m1\u001b[39m,y] \u001b[39mif\u001b[39;00m \u001b[39mnot\u001b[39;00m on_left_border \u001b[39melse\u001b[39;00m mmp2[i][\u001b[39m0\u001b[39m,x\u001b[39m+\u001b[39m\u001b[39m1\u001b[39m,y])\\\n\u001b[1;32m    507\u001b[0m         \u001b[39m+\u001b[39m(mmp2[i][\u001b[39m0\u001b[39m,x,y\u001b[39m+\u001b[39m\u001b[39m1\u001b[39m] \u001b[39mif\u001b[39;00m \u001b[39mnot\u001b[39;00m on_bottom_border \u001b[39melse\u001b[39;00m mmp2[i][\u001b[39m0\u001b[39m,x,y\u001b[39m-\u001b[39m\u001b[39m1\u001b[39m])\\\n\u001b[1;32m    508\u001b[0m         \u001b[39m+\u001b[39m(mmp2[i][\u001b[39m0\u001b[39m,x,y\u001b[39m-\u001b[39m\u001b[39m1\u001b[39m] \u001b[39mif\u001b[39;00m \u001b[39mnot\u001b[39;00m on_top_border \u001b[39melse\u001b[39;00m mmp2[i][\u001b[39m0\u001b[39m,x,y\u001b[39m+\u001b[39m\u001b[39m1\u001b[39m])\\\n\u001b[1;32m    509\u001b[0m         )\\\n\u001b[1;32m    510\u001b[0m         \u001b[39m+\u001b[39mmmp2[i][\u001b[39m0\u001b[39m,x,y]\u001b[39m*\u001b[39m(\u001b[39m1\u001b[39m\u001b[39m-\u001b[39m\u001b[39m4\u001b[39m\u001b[39m*\u001b[39mdmmp\u001b[39m*\u001b[39mtha\u001b[39m/\u001b[39mxha\u001b[39m*\u001b[39m\u001b[39m*\u001b[39m\u001b[39m2\u001b[39m\u001b[39m-\u001b[39mth\u001b[39m*\u001b[39mLambda)\u001b[39m+\u001b[39mtha\u001b[39m*\u001b[39mtheta\u001b[39m*\u001b[39m\u001b[39mself\u001b[39m\u001b[39m.\u001b[39mmesenchymal_count[i][x,y]\n\u001b[1;32m    511\u001b[0m ecm[i][\u001b[39m1\u001b[39m,x,y] \u001b[39m=\u001b[39m ecm[i][\u001b[39m0\u001b[39m,x,y]\u001b[39m*\u001b[39m(\u001b[39m1\u001b[39m\u001b[39m-\u001b[39mtha\u001b[39m*\u001b[39m(gamma1\u001b[39m*\u001b[39m\u001b[39mself\u001b[39m\u001b[39m.\u001b[39mmesenchymal_count[i][x,y]\u001b[39m+\u001b[39mgamma2\u001b[39m*\u001b[39mmmp2[i][\u001b[39m1\u001b[39m,x,y]))\n",
      "\u001b[0;31mKeyboardInterrupt\u001b[0m: "
     ]
    }
   ],
   "source": [
    "run_n_times(10,2160)"
   ]
  },
  {
   "attachments": {},
   "cell_type": "markdown",
   "metadata": {},
   "source": [
    "## For the data and graphics generation\n",
    "⚠️ Still working on this part"
   ]
  },
  {
   "cell_type": "code",
   "execution_count": null,
   "metadata": {},
   "outputs": [],
   "source": [
    "import metaspread.datagenerator as datagenerator\n",
    "import metaspread.graphgenerator as graphgenerator"
   ]
  },
  {
   "cell_type": "code",
   "execution_count": 26,
   "metadata": {},
   "outputs": [
    {
     "name": "stdout",
     "output_type": "stream",
     "text": [
      "\tAnalyzing data in the folder Simulations/Sim-6120b2be-Date-2025-03-01_16-54-53\n",
      "\n",
      "Using cells data at: Simulations/Sim-6120b2be-Date-2025-03-01_16-54-53/CellsData.csv\n",
      "Using Ecm data in the folder: Simulations/Sim-6120b2be-Date-2025-03-01_16-54-53/Ecm\n",
      "Using Mmp2 data in the folder: Simulations/Sim-6120b2be-Date-2025-03-01_16-54-53/Mmp2\n",
      "Using vasculature data at: Simulations/Sim-6120b2be-Date-2025-03-01_16-54-53/Vasculature\n",
      "Warning: the run for this simulation terminated early\n",
      "Max step reached is 500 while 500 was expected.\n",
      "\n",
      "Saving tumor data in the folder: Simulations/Sim-6120b2be-Date-2025-03-01_16-54-53/Data analysis/Tumor dynamics\n",
      "Saving cells numbers data in the folder: Simulations/Sim-6120b2be-Date-2025-03-01_16-54-53/Data analysis/Cells growth\n",
      "Saving vasculature data in the folder: Simulations/Sim-6120b2be-Date-2025-03-01_16-54-53/Data analysis/Vasculature dynamics\n",
      "\n",
      "Grid: 1\n",
      "\tSaving tumor data...\n",
      "\tSaving cells numbers graph data...\n",
      "\n",
      "Grid: 2\n",
      "\tSaving tumor data...\n",
      "\tSaving cells numbers graph data...\n",
      "\n",
      "Grid: 3\n",
      "\tSaving tumor data...\n",
      "\tSaving cells numbers graph data...\n",
      "Saving vasculature...\n"
     ]
    }
   ],
   "source": [
    "simulation_folder = \"Sim-6120b2be-Date-2025-03-01_16-54-53\"\n",
    "amount_of_pictures= 50\n",
    "\n",
    "datagenerator.generate_data(simulation_folder)"
   ]
  },
  {
   "cell_type": "code",
   "execution_count": 27,
   "metadata": {},
   "outputs": [
    {
     "name": "stdout",
     "output_type": "stream",
     "text": [
      "Analyzing data in the folder Simulations/Sim-6120b2be-Date-2025-03-01_16-54-53\n",
      "\n",
      "Using cells data at: Simulations/Sim-6120b2be-Date-2025-03-01_16-54-53/CellsData.csv\n",
      "Using Ecm data in the folder: Simulations/Sim-6120b2be-Date-2025-03-01_16-54-53/Ecm\n",
      "Using Mmp2 data in the folder: Simulations/Sim-6120b2be-Date-2025-03-01_16-54-53/Mmp2\n",
      "Using vasculature data at: Simulations/Sim-6120b2be-Date-2025-03-01_16-54-53/Vasculature\n",
      "Warning: the run for this simulation terminated early\n",
      "Max step reached is 500 while 500 was expected.\n",
      "\n",
      "Saving tumor images in the folder: Simulations/Sim-6120b2be-Date-2025-03-01_16-54-53/Graphical analysis/Tumor dynamics\n",
      "Saving Mmp2 images in the folder: Simulations/Sim-6120b2be-Date-2025-03-01_16-54-53/Graphical analysis/Mmp2 dynamics\n",
      "Saving Ecm images in the folder: Simulations/Sim-6120b2be-Date-2025-03-01_16-54-53/Graphical analysis/Ecm dynamics\n",
      "Saving cells numbers images in the folder: Simulations/Sim-6120b2be-Date-2025-03-01_16-54-53/Graphical analysis/Cells growth\n",
      "Saving vasculature images in the folder: Simulations/Sim-6120b2be-Date-2025-03-01_16-54-53/Graphical analysis/Vasculature dynamics\n",
      "Saving histogram images in the folder: Simulations/Sim-6120b2be-Date-2025-03-01_16-54-53/Graphical analysis/Positions histogram\n",
      "Saving histogram image in the folder: Simulations/Sim-6120b2be-Date-2025-03-01_16-54-53/Graphical analysis/Radius and diameter\n",
      "\n",
      "Grid: 1\n",
      "\tPlotting Mmp2 graphs...\n",
      "\tPlotting Ecm graphs...\n",
      "\tPlotting tumor graphs...\n",
      "\tPlotting histogram graphs...\n",
      "\tPlotting cells numbers graph...\n",
      "\n",
      "Grid: 2\n",
      "\tPlotting Mmp2 graphs...\n",
      "\tPlotting Ecm graphs...\n",
      "\tPlotting tumor graphs...\n",
      "\tPlotting histogram graphs...\n",
      "\tPlotting cells numbers graph...\n",
      "\n",
      "Grid: 3\n",
      "\tPlotting Mmp2 graphs...\n",
      "\tPlotting Ecm graphs...\n",
      "\tPlotting tumor graphs...\n",
      "\tPlotting histogram graphs...\n",
      "\tPlotting cells numbers graph...\n",
      "Plotting vasculature...\n",
      "Plotting radius and diameter history graph...\n"
     ]
    }
   ],
   "source": [
    "graphgenerator.generate_graphs(simulation_folder, amount_of_pictures)"
   ]
  }
 ],
 "metadata": {
  "kernelspec": {
   "display_name": "metaspread-env",
   "language": "python",
   "name": "python3"
  },
  "language_info": {
   "codemirror_mode": {
    "name": "ipython",
    "version": 3
   },
   "file_extension": ".py",
   "mimetype": "text/x-python",
   "name": "python",
   "nbconvert_exporter": "python",
   "pygments_lexer": "ipython3",
   "version": "3.10.16"
  },
  "vscode": {
   "interpreter": {
    "hash": "f05de47ce5286b2cc35adbd18f7ddb9489479a299dfea9227526834e3c15bd5e"
   }
  }
 },
 "nbformat": 4,
 "nbformat_minor": 2
}
