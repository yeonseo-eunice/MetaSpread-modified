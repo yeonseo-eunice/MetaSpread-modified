{
 "cells": [
  {
   "cell_type": "markdown",
   "metadata": {},
   "source": [
    "Run Iterations all at Once"
   ]
  },
  {
   "cell_type": "code",
   "execution_count": 18,
   "metadata": {},
   "outputs": [],
   "source": [
    "import importlib\n",
    "\n",
    "import metaspread\n",
    "import metaspread.simrunner as simrunner\n",
    "\n",
    "importlib.reload(metaspread)\n",
    "\n",
    "import pandas as pd\n",
    "import random\n",
    "import time\n",
    "import os\n",
    "import ast\n",
    "import json\n",
    "import uuid\n",
    "\n",
    "def run_n_times(number_of_simulations, maximum_steps):\n",
    "    # Set random seed for reproducibility\n",
    "    random.seed(int(time.time()))\n",
    "\n",
    "    # Get the directory where metaspread is installed\n",
    "    package_dir = os.path.dirname(metaspread.__file__)\n",
    "\n",
    "    # Path to simulation_configs.csv inside metaspread\n",
    "    config_path_default = os.path.join(package_dir, \"default_configs.csv\")\n",
    "\n",
    "    # Load default parameters from the CSV file\n",
    "    df_configs_default = pd.read_csv(config_path_default, header=0, converters={\"Values\": ast.literal_eval})\n",
    "    default_params = dict(zip(df_configs_default[\"Names\"], df_configs_default[\"Values\"]))\n",
    "\n",
    "    # List of parameters to vary\n",
    "    user_selected_params = [\"dM\", \"dE\", \"phiM\",\"phiE\",\"mesenchymal_proportion\",\"epithelial_proportion\"]  # Replace with actual parameter names\n",
    "    valid_params = [param for param in user_selected_params if param in default_params]\n",
    "\n",
    "    # Number of simulations\n",
    "    num_simulations = number_of_simulations\n",
    "\n",
    "    # Store all parameter variations\n",
    "    simulation_logs = []\n",
    "\n",
    "    # Loop over multiple iterations\n",
    "    for i in range(num_simulations):\n",
    "        print(f\"Running simulation {i+1}/{num_simulations}...\")\n",
    "\n",
    "        simulation_id = str(uuid.uuid4())[:8]\n",
    "\n",
    "        # Modify parameters randomly\n",
    "        varied_params = default_params.copy()\n",
    "        for param in valid_params:\n",
    "            if param != \"mesenchymal_proportion\" and param != \"epithelial_proportion\":\n",
    "                default_value = float(default_params[param])  # Ensure it's numeric\n",
    "                new_value = default_value * random.uniform(1/3, 3)\n",
    "                varied_params[param] = new_value\n",
    "            else:\n",
    "                varied_params[param] = random.uniform(0,1)\n",
    "\n",
    "        # Ensure grid size is always set to 50\n",
    "        varied_params[\"gridsize\"] = 200\n",
    "\n",
    "        # set mesenchymal_porpotion and ensure the proportions add up to 1\n",
    "        mes_proportion = random.uniform(0,1)\n",
    "        varied_params[\"mesenchymal_proportion\"] = mes_proportion\n",
    "        varied_params[\"epithelial_proportion\"] = 1 - mes_proportion\n",
    "\n",
    "        # Update the CSV file with modified parameters\n",
    "        config_path_changed = os.path.join(package_dir, \"simulations_configs.csv\")\n",
    "        df_configs_changed = pd.read_csv(config_path_changed, header=0, converters={\"Values\": ast.literal_eval})\n",
    "        df_configs_changed.loc[df_configs_changed[\"Names\"].isin(valid_params + [\"gridsize\"]), \"Values\"] = df_configs_changed[\"Names\"].map(varied_params)\n",
    "        df_configs_changed.to_csv(config_path_changed, index=False)\n",
    "\n",
    "        # Run simulation\n",
    "        simulation = simrunner.run_simulation(simulation_id, max_steps=maximum_steps, data_collection_period=10)\n",
    "\n",
    "        # Store parameter variations\n",
    "        simulation_logs.append({\n",
    "            \"simulation_id\": simulation_id,\n",
    "            \"varied_parameters\": {param: varied_params[param] for param in valid_params},\n",
    "            \"gridsize\": 200\n",
    "        })\n",
    "\n",
    "        print(f\"Completed simulation {i+1}/{num_simulations}.\")\n",
    "\n",
    "    # Save all parameters used in simulations\n",
    "    with open(\"metaspread_simulation_logs.json\", \"w\") as f:\n",
    "        json.dump(simulation_logs, f, indent=4)\n",
    "\n",
    "    print(f\"All {num_simulations} simulations completed successfully.\")\n"
   ]
  },
  {
   "attachments": {},
   "cell_type": "markdown",
   "metadata": {},
   "source": [
    "## Run\n",
    "run_n_times({number of simulations}, {maximum steps})"
   ]
  },
  {
   "cell_type": "code",
   "execution_count": 19,
   "metadata": {},
   "outputs": [
    {
     "name": "stdout",
     "output_type": "stream",
     "text": [
      "Running simulation 1/1...\n",
      "\n",
      "\t Folder for this simulation: Simulations/Sim-02f355e1-Date-2025-03-01_18-22-30\n",
      "\t Saving agents data at: Simulations/Sim-02f355e1-Date-2025-03-01_18-22-30\n",
      "\t Saving Mmp2 data at: Simulations/Sim-02f355e1-Date-2025-03-01_18-22-30/Mmp2\n",
      "\t Saving Ecm data at: Simulations/Sim-02f355e1-Date-2025-03-01_18-22-30/Ecm\n",
      "\t Saving Vasculature data at: Simulations/Sim-02f355e1-Date-2025-03-01_18-22-30/Vasculature\n",
      "\t Saving all the simulations parameters at: Simulations/Sim-02f355e1-Date-2025-03-01_18-22-30/configs.csv\n",
      "Starting simulation from zero!\n",
      "Finished the simulation at time step 1500!\n",
      "Completed simulation 1/1.\n",
      "All 1 simulations completed successfully.\n"
     ]
    }
   ],
   "source": [
    "run_n_times(1,1500)"
   ]
  },
  {
   "cell_type": "code",
   "execution_count": null,
   "metadata": {},
   "outputs": [],
   "source": [
    "import metaspread.datagenerator as datagenerator\n",
    "import metaspread.graphgenerator as graphgenerator"
   ]
  },
  {
   "cell_type": "code",
   "execution_count": 26,
   "metadata": {},
   "outputs": [
    {
     "name": "stdout",
     "output_type": "stream",
     "text": [
      "\tAnalyzing data in the folder Simulations/Sim-6120b2be-Date-2025-03-01_16-54-53\n",
      "\n",
      "Using cells data at: Simulations/Sim-6120b2be-Date-2025-03-01_16-54-53/CellsData.csv\n",
      "Using Ecm data in the folder: Simulations/Sim-6120b2be-Date-2025-03-01_16-54-53/Ecm\n",
      "Using Mmp2 data in the folder: Simulations/Sim-6120b2be-Date-2025-03-01_16-54-53/Mmp2\n",
      "Using vasculature data at: Simulations/Sim-6120b2be-Date-2025-03-01_16-54-53/Vasculature\n",
      "Warning: the run for this simulation terminated early\n",
      "Max step reached is 500 while 500 was expected.\n",
      "\n",
      "Saving tumor data in the folder: Simulations/Sim-6120b2be-Date-2025-03-01_16-54-53/Data analysis/Tumor dynamics\n",
      "Saving cells numbers data in the folder: Simulations/Sim-6120b2be-Date-2025-03-01_16-54-53/Data analysis/Cells growth\n",
      "Saving vasculature data in the folder: Simulations/Sim-6120b2be-Date-2025-03-01_16-54-53/Data analysis/Vasculature dynamics\n",
      "\n",
      "Grid: 1\n",
      "\tSaving tumor data...\n",
      "\tSaving cells numbers graph data...\n",
      "\n",
      "Grid: 2\n",
      "\tSaving tumor data...\n",
      "\tSaving cells numbers graph data...\n",
      "\n",
      "Grid: 3\n",
      "\tSaving tumor data...\n",
      "\tSaving cells numbers graph data...\n",
      "Saving vasculature...\n"
     ]
    }
   ],
   "source": [
    "simulation_folder = \"Sim-6120b2be-Date-2025-03-01_16-54-53\"\n",
    "amount_of_pictures= 50\n",
    "\n",
    "datagenerator.generate_data(simulation_folder)"
   ]
  },
  {
   "cell_type": "code",
   "execution_count": 27,
   "metadata": {},
   "outputs": [
    {
     "name": "stdout",
     "output_type": "stream",
     "text": [
      "Analyzing data in the folder Simulations/Sim-6120b2be-Date-2025-03-01_16-54-53\n",
      "\n",
      "Using cells data at: Simulations/Sim-6120b2be-Date-2025-03-01_16-54-53/CellsData.csv\n",
      "Using Ecm data in the folder: Simulations/Sim-6120b2be-Date-2025-03-01_16-54-53/Ecm\n",
      "Using Mmp2 data in the folder: Simulations/Sim-6120b2be-Date-2025-03-01_16-54-53/Mmp2\n",
      "Using vasculature data at: Simulations/Sim-6120b2be-Date-2025-03-01_16-54-53/Vasculature\n",
      "Warning: the run for this simulation terminated early\n",
      "Max step reached is 500 while 500 was expected.\n",
      "\n",
      "Saving tumor images in the folder: Simulations/Sim-6120b2be-Date-2025-03-01_16-54-53/Graphical analysis/Tumor dynamics\n",
      "Saving Mmp2 images in the folder: Simulations/Sim-6120b2be-Date-2025-03-01_16-54-53/Graphical analysis/Mmp2 dynamics\n",
      "Saving Ecm images in the folder: Simulations/Sim-6120b2be-Date-2025-03-01_16-54-53/Graphical analysis/Ecm dynamics\n",
      "Saving cells numbers images in the folder: Simulations/Sim-6120b2be-Date-2025-03-01_16-54-53/Graphical analysis/Cells growth\n",
      "Saving vasculature images in the folder: Simulations/Sim-6120b2be-Date-2025-03-01_16-54-53/Graphical analysis/Vasculature dynamics\n",
      "Saving histogram images in the folder: Simulations/Sim-6120b2be-Date-2025-03-01_16-54-53/Graphical analysis/Positions histogram\n",
      "Saving histogram image in the folder: Simulations/Sim-6120b2be-Date-2025-03-01_16-54-53/Graphical analysis/Radius and diameter\n",
      "\n",
      "Grid: 1\n",
      "\tPlotting Mmp2 graphs...\n",
      "\tPlotting Ecm graphs...\n",
      "\tPlotting tumor graphs...\n",
      "\tPlotting histogram graphs...\n",
      "\tPlotting cells numbers graph...\n",
      "\n",
      "Grid: 2\n",
      "\tPlotting Mmp2 graphs...\n",
      "\tPlotting Ecm graphs...\n",
      "\tPlotting tumor graphs...\n",
      "\tPlotting histogram graphs...\n",
      "\tPlotting cells numbers graph...\n",
      "\n",
      "Grid: 3\n",
      "\tPlotting Mmp2 graphs...\n",
      "\tPlotting Ecm graphs...\n",
      "\tPlotting tumor graphs...\n",
      "\tPlotting histogram graphs...\n",
      "\tPlotting cells numbers graph...\n",
      "Plotting vasculature...\n",
      "Plotting radius and diameter history graph...\n"
     ]
    }
   ],
   "source": [
    "graphgenerator.generate_graphs(simulation_folder, amount_of_pictures)"
   ]
  }
 ],
 "metadata": {
  "kernelspec": {
   "display_name": "metaspread-env",
   "language": "python",
   "name": "python3"
  },
  "language_info": {
   "codemirror_mode": {
    "name": "ipython",
    "version": 3
   },
   "file_extension": ".py",
   "mimetype": "text/x-python",
   "name": "python",
   "nbconvert_exporter": "python",
   "pygments_lexer": "ipython3",
   "version": "3.10.16"
  },
  "vscode": {
   "interpreter": {
    "hash": "f05de47ce5286b2cc35adbd18f7ddb9489479a299dfea9227526834e3c15bd5e"
   }
  }
 },
 "nbformat": 4,
 "nbformat_minor": 2
}
